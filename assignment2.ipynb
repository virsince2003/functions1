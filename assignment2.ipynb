{
 "cells": [
  {
   "cell_type": "markdown",
   "id": "804d9399-04ba-4c12-82a0-5fde6fc17330",
   "metadata": {},
   "source": [
    "Q1. Which keyword is used to create a function? Create a function to return a list of odd numbers in the \n",
    "range of 1 to 25."
   ]
  },
  {
   "cell_type": "raw",
   "id": "6297ad58-69d3-48c0-85d3-3e9814f13c6a",
   "metadata": {},
   "source": [
    "def is used to create a function."
   ]
  },
  {
   "cell_type": "code",
   "execution_count": 25,
   "id": "0d3a7319-a4b1-4e6a-99e0-6605cdf3848d",
   "metadata": {},
   "outputs": [],
   "source": [
    "def test():\n",
    "    l=[]\n",
    "    for i in range(1,26):\n",
    "        if i%2!=0:\n",
    "            l.append(i)\n",
    "    return l"
   ]
  },
  {
   "cell_type": "code",
   "execution_count": 26,
   "id": "9abdc6cf-0e7c-4cea-9628-846f0933461c",
   "metadata": {},
   "outputs": [
    {
     "data": {
      "text/plain": [
       "[1, 3, 5, 7, 9, 11, 13, 15, 17, 19, 21, 23, 25]"
      ]
     },
     "execution_count": 26,
     "metadata": {},
     "output_type": "execute_result"
    }
   ],
   "source": [
    "test()"
   ]
  },
  {
   "cell_type": "markdown",
   "id": "0dfde092-84ec-48a7-83a6-7005e509ed46",
   "metadata": {},
   "source": [
    " Q2. Why *args and **kwargs is used in some functions? Create a function each for *args and **kwargs to \n",
    "demonstrate their use."
   ]
  },
  {
   "cell_type": "raw",
   "id": "0deaffa2-66ce-4709-979e-8124e7571eb5",
   "metadata": {},
   "source": [
    "*args is used to pass the variable number of non keyword arguments to a function.\n",
    "**kwargs is used to pass the variable number of keyword argument to a function."
   ]
  },
  {
   "cell_type": "code",
   "execution_count": 2,
   "id": "8033ea43-bdbc-489a-b2dd-60a1efa61d09",
   "metadata": {},
   "outputs": [
    {
     "data": {
      "text/plain": [
       "(1, 2, 34, 4, 4)"
      ]
     },
     "execution_count": 2,
     "metadata": {},
     "output_type": "execute_result"
    }
   ],
   "source": [
    "#use of args\n",
    "def test(*args):\n",
    "    return args\n",
    "test(1,2,34,4,4,)"
   ]
  },
  {
   "cell_type": "code",
   "execution_count": 10,
   "id": "6b139be7-eeac-4656-820b-e886b6e37c39",
   "metadata": {},
   "outputs": [
    {
     "data": {
      "text/plain": [
       "{'Virender': 1,\n",
       " 'Piyush': 2,\n",
       " 'Abhishek': 3,\n",
       " 'Ankush': 4,\n",
       " 'Sudhanshu': 5,\n",
       " 'Nischey': 6}"
      ]
     },
     "execution_count": 10,
     "metadata": {},
     "output_type": "execute_result"
    }
   ],
   "source": [
    "#use of **kwargs\n",
    "def test1(**kwargs):\n",
    "    return kwargs\n",
    "test1(Virender=1,Piyush=2,Abhishek=3,Ankush=4,Sudhanshu=5,Nischey=6)"
   ]
  },
  {
   "cell_type": "markdown",
   "id": "1fc46aaf-4327-4751-851a-ed139585264d",
   "metadata": {},
   "source": [
    "Q3.  What is an iterator in python? Name the method used to initialise the iterator object and the method \n",
    "used for iteration. Use these methods to print the first five elements of the given list [2, 4, 6, 8, 10, 12, 14, 16, \n",
    "18, 20]."
   ]
  },
  {
   "cell_type": "raw",
   "id": "5944e853-0b33-4f59-8beb-0a18cd004914",
   "metadata": {},
   "source": [
    "Itrator is an objest which is used to itrate over itrable objects like dict,set,tuple,list.\n"
   ]
  },
  {
   "cell_type": "raw",
   "id": "5f6c8be5-e696-40b6-835a-e46f87f41ad2",
   "metadata": {},
   "source": [
    "To initialise the itrator object iter() method is  used, and next()method is used for the itration."
   ]
  },
  {
   "cell_type": "code",
   "execution_count": 15,
   "id": "97a5c95c-6101-4b47-95ab-d9e908291e4a",
   "metadata": {},
   "outputs": [
    {
     "name": "stdout",
     "output_type": "stream",
     "text": [
      "2\n",
      "4\n",
      "6\n",
      "8\n",
      "10\n"
     ]
    }
   ],
   "source": [
    "lst = [2, 4, 6, 8, 10, 12, 14, 16, 18, 20]\n",
    "x=iter(lst)\n",
    "for i in range(5):\n",
    "    print(next(x))"
   ]
  },
  {
   "cell_type": "markdown",
   "id": "4d4dbdd1-1286-4bd0-9485-1857f0678127",
   "metadata": {},
   "source": [
    "Q4.  What is a generator function in python? Why yield keyword is used? Give an example of a generator \n",
    "function."
   ]
  },
  {
   "cell_type": "raw",
   "id": "fa023bc5-7de5-4006-9019-e234e4a62cea",
   "metadata": {},
   "source": [
    "Generator function is used to return the sequence of values, it behaves like a normal function but it uses a yield insted of return statement."
   ]
  },
  {
   "cell_type": "code",
   "execution_count": 36,
   "id": "ba3f0268-1bcb-4e89-8e6f-e0ff8889ee2c",
   "metadata": {},
   "outputs": [],
   "source": [
    "def even():\n",
    "    for i in range(1,10):\n",
    "        if i%2==0:\n",
    "            yield i"
   ]
  },
  {
   "cell_type": "code",
   "execution_count": 37,
   "id": "6c7c2f07-8b60-485e-a6d1-3cb9639f3322",
   "metadata": {},
   "outputs": [
    {
     "name": "stdout",
     "output_type": "stream",
     "text": [
      "2\n",
      "4\n",
      "6\n",
      "8\n"
     ]
    }
   ],
   "source": [
    "x = even()\n",
    "for i in x:\n",
    "    print(i)"
   ]
  },
  {
   "cell_type": "markdown",
   "id": "c05b7d1c-5de0-46e2-a8c2-1e9698f6e025",
   "metadata": {},
   "source": [
    "Q5. Create a generator function for prime numbers less than 1000. Use the next() method to print the \n",
    "first 20 prime numbers."
   ]
  },
  {
   "cell_type": "code",
   "execution_count": 51,
   "id": "9ed24e8c-fe8c-494a-ba51-bbc943e00f55",
   "metadata": {},
   "outputs": [],
   "source": [
    "def primes():\n",
    "    for num in range(2, 1000):\n",
    "        if num > 1:\n",
    "            for i in range(2, num):\n",
    "                if (num % i) == 0:\n",
    "                    break\n",
    "            else:\n",
    "                yield num\n"
   ]
  },
  {
   "cell_type": "code",
   "execution_count": 53,
   "id": "c9b9f21c-b964-40e6-9c36-177cd70f2e4d",
   "metadata": {},
   "outputs": [
    {
     "name": "stdout",
     "output_type": "stream",
     "text": [
      "2\n",
      "3\n",
      "5\n",
      "7\n",
      "11\n",
      "13\n",
      "17\n",
      "19\n",
      "23\n",
      "29\n",
      "31\n",
      "37\n",
      "41\n",
      "43\n",
      "47\n",
      "53\n",
      "59\n",
      "61\n",
      "67\n",
      "71\n"
     ]
    }
   ],
   "source": [
    "generator = primes()\n",
    "for i in range(20):\n",
    "    print(next(generator))\n"
   ]
  }
 ],
 "metadata": {
  "kernelspec": {
   "display_name": "Python 3 (ipykernel)",
   "language": "python",
   "name": "python3"
  },
  "language_info": {
   "codemirror_mode": {
    "name": "ipython",
    "version": 3
   },
   "file_extension": ".py",
   "mimetype": "text/x-python",
   "name": "python",
   "nbconvert_exporter": "python",
   "pygments_lexer": "ipython3",
   "version": "3.10.8"
  }
 },
 "nbformat": 4,
 "nbformat_minor": 5
}
